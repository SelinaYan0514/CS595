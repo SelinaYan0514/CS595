{
 "cells": [
  {
   "cell_type": "markdown",
   "id": "3FzEHmakHX3D",
   "metadata": {
    "id": "3FzEHmakHX3D"
   },
   "source": [
    "# Assignment 3: Bitcoin Transaction and Generation\n",
    "\n",
    "## Introduction\n",
    "In this assignment, you will delve into the practical aspects of Bitcoin. Your task will involve understanding Bitcoin transactions, specifically focusing on transaction scripts. You will apply your Python skills to solve a real-world challenge: accepting and spending Bitcoin funds.\n",
    "\n",
    "\n",
    "## Background\n",
    "In Bitcoin, funds are locked in a transaction output (TXO) using a script (`scriptPubKey`) that requires a specific input to unlock (i.e., spend).\n",
    "\n",
    "As seen in class, some of the common types of `scriptPubKey` are:\n",
    "- **P2PK (Pay-to-Public-Key)**, which specifies a public key (i.e., a verification key of a digital signature scheme) and requires a matching signature on the transaction.\n",
    "- **Pay-to-Public-Key-Hash (P2PKH)**, which specifies a hash digest and requires a public key that hashes to the digest alongside a matching signature on the transaction. A P2PKH script is of the form: \"OP\\_DUP, OP\\_HASH160, hash, OP\\_EQUALVERIFY, OP\\_CHECKSIG\"\n",
    "\n",
    "The corresponding addresses are called \"P2PK *address*\" and \"P2PKH *address*\" respectively because the owner of a public key can tell people to send money to their public key simply by telling them what `scriptPubKey` (of either form) to use in a new TXO.\n",
    "\n",
    "The `scriptPubKey` can also express other types of conditions for spending the funds.\n",
    "\n",
    "You can read more about the Bitcoin scripting language in the [course reading material](https://docs.google.com/document/d/e/2PACX-1vQdnBw-O_IyPgchLNAQ6xOdKiPAIhnOUt0UFlusvtpNc8DuOLpA65Kg99p7tvyaIMyUKoMSO3TuWTfO/pub) and specifically at [Bitcoin Script Wiki](https://en.bitcoin.it/wiki/Script).\n",
    "\n",
    "## Overview\n",
    "The course staff have designated some coins for you and locked them with a P2PKH script on the Bitcoin blockchain (or more precisely, a Bitcoin testnet called Signet, which behaves just like the real Bitcoin blockchain, but does not have monetary value).\n",
    "\n",
    "Your goal is to accept the funds from one of the transaction output and move them to another account. To do so, you need to create a new transaction whose input is an unspent TXO containing the lock script (`scriptPubKey`), and the new TXO is another address (or script) where you want to send the Bitcoins.\n",
    "\n",
    "The secret key to unlock your TXO was sent to you via email. Your challenge is to find the relevant TXO, understand how its locking script works and how to satisfy it using the secret text you were given, and create a new transaction that spends that TXO and sends the funds to another address.\n",
    "\n",
    "Follow the steps below to complete the assignment.\n"
   ]
  },
  {
   "cell_type": "markdown",
   "id": "7caf8465",
   "metadata": {
    "id": "7caf8465"
   },
   "source": [
    "## **Step 1: Setup Your Environment**\n",
    "Ensure you have the necessary libraries installed."
   ]
  },
  {
   "cell_type": "code",
   "execution_count": null,
   "id": "0b82dcf6",
   "metadata": {
    "colab": {
     "base_uri": "https://localhost:8080/"
    },
    "id": "0b82dcf6",
    "outputId": "1e850ed3-98fb-4084-834f-ae6481e142f9"
   },
   "outputs": [],
   "source": [
    "# Install python-bitcoinlib if not already installed\n",
    "!pip install python-bitcoinlib"
   ]
  },
  {
   "cell_type": "markdown",
   "id": "c7b02efe",
   "metadata": {
    "id": "c7b02efe"
   },
   "source": [
    "---\n",
    "\n",
    "## **Step 2: Import Required Libraries**\n",
    "Import the required modules to handle Bitcoin transactions and scripts."
   ]
  },
  {
   "cell_type": "code",
   "execution_count": null,
   "id": "0167c8f8",
   "metadata": {
    "id": "0167c8f8"
   },
   "outputs": [],
   "source": [
    "from bitcoin import SelectParams\n",
    "from bitcoin.core import CScript, CMutableTransaction, CMutableTxOut, CMutableTxIn, lx, b2lx, COutPoint, CTransaction\n",
    "from bitcoin.wallet import CBitcoinSecret, P2PKHBitcoinAddress"
   ]
  },
  {
   "cell_type": "markdown",
   "id": "86ef1350",
   "metadata": {
    "id": "86ef1350"
   },
   "source": [
    "---\n",
    "\n",
    "## **Step 3: Configure Bitcoin Network**\n",
    "Switch to the Signet network, which is one of the Bitcoin testnet blockchains."
   ]
  },
  {
   "cell_type": "code",
   "execution_count": null,
   "id": "bbaa0dae",
   "metadata": {
    "id": "bbaa0dae"
   },
   "outputs": [],
   "source": [
    "# Select the Signet network\n",
    "SelectParams('signet')"
   ]
  },
  {
   "cell_type": "markdown",
   "id": "49e2e552",
   "metadata": {
    "id": "49e2e552"
   },
   "source": [
    "---\n",
    "\n",
    "## **Step 4: Identify The Course Funding Transaction**\n",
    "Use the secret provided via email to identify your unique UTXO from the transaction broadcasted by the course staff.\n",
    "\n",
    "**Find the Transaction ID:** Use [mempool.space](https://mempool.space/signet) to locate the transaction. Switch to the Signet chain by clicking the bitcoin logo in the navbar and selecting `Signet'. Then, search for the course's funding address:\n",
    "\n",
    "**Funding Address:** `mrA7b7UavMvPL9CmUPCSs3FtTXrbWBN8Ut`\n",
    "\n",
    "Go to the most recent transaction from this address. This transaction has many outputs, each of which is a P2PKH script for a different student in the class. Next, you will find which of these transactions is meant for you."
   ]
  },
  {
   "cell_type": "code",
   "execution_count": null,
   "id": "58de3c5f",
   "metadata": {
    "id": "58de3c5f"
   },
   "outputs": [],
   "source": [
    "from bitcoin.core import Hash160\n",
    "\n",
    "# Replace the placeholder with your actual WIF-encoded private key\n",
    "# WIF stands for Wallet Import Format,\n",
    "# which is a user-friendly way to represent Bitcoin private keys.\n",
    "# Rather than displaying a raw binary number,\n",
    "# WIF encodes the private key with additional metadata—such as a version byte\n",
    "# and a checksum—making it easier to copy, paste, and import into wallets.\n",
    "# Additionally, the encoding uses Base58Check, a method designed to avoid\n",
    "# confusing characters and detect errors,\n",
    "# ensuring that even a minor typo is quickly identified as invalid.\n",
    "secret_phrase = 'None'\n",
    "\n",
    "# Generate your secret key from the secret\n",
    "secret_key = CBitcoinSecret(secret_phrase)\n",
    "\n",
    "# Compute your public key from your secret key\n",
    "public_key = secret_key.pub\n",
    "\n",
    "# Hash your public key and print it in hex\n",
    "Hash160(public_key).hex()\n"
   ]
  },
  {
   "cell_type": "markdown",
   "id": "abcdxq7LL7C",
   "metadata": {
    "id": "abcdxq7LL7C"
   },
   "source": [
    "---\n",
    "\n",
    "## **Step 5: Identify your unique UTXO**\n",
    "Find the transaction output whose script matches your public key hash, and plug it in below"
   ]
  },
  {
   "cell_type": "code",
   "id": "bSTCHxq7LL8C",
   "metadata": {
    "id": "bSTCHxq7LL8C"
   },
   "execution_count": null,
   "outputs": [],
   "source": [
    "# Plug in the transaction ID and the index of the output in that transaction\n",
    "txid = 'txid' # TODO: replace with actual txid\n",
    "vout = -1 # TODO: replace with actual output index"
   ]
  },
  {
   "cell_type": "markdown",
   "id": "0cba0783",
   "metadata": {
    "id": "0cba0783"
   },
   "source": [
    "---\n",
    "\n",
    "## **Step 6: Create the Transaction to Spend Your UTXO**\n",
    "Define the input and output for your new transaction. Send 1000 sats to the course's address and payback yourself what is left. Don't forget to leave some funds as a transaction fee, or else your transaction may not get confirmed. 500 sats should do it."
   ]
  },
  {
   "cell_type": "code",
   "execution_count": null,
   "id": "8f5b4bc0",
   "metadata": {
    "id": "8f5b4bc0"
   },
   "outputs": [],
   "source": [
    "from bitcoin.core.script import CScript, OP_DUP, OP_HASH160, OP_EQUALVERIFY, OP_CHECKSIG, SignatureHash, SIGHASH_ALL\n",
    "# Create the transaction input\n",
    "# The transaction input must link to the UTXO that you have previously located\n",
    "# This effectively points to the specific scriptPubKey you are unlocking\n",
    "txin = CMutableTxIn(COutPoint(lx(txid), vout))\n",
    "\n",
    "# Define the amount to send, adjusted for transaction fees. Amounts are measured in sats (1 BTC = 100,000,000 sat)\n",
    "amount_to_send_to_output_1 = 0  # todo: fill me in with correct amount",
    "amount_to_send_to_output_2 = 0  # todo: fill me in with correct amount\n",
    "\n",
    "# Define the course's funding address\n",
    "course_address = P2PKHBitcoinAddress('-- fill me in --')\n",
    "\n",
    "# Get the scriptPubKey of the destnation from the course's funding address\n",
    "# Remember the address is just an encoding of a scriptPubKey!\n",
    "scriptPubKey_1 = course_address.to_scriptPubKey()\n",
    "\n",
    "# Compute a P2PKH script for your address. While you can do this with a built-in function\n",
    "# like to_scriptPubKey(), to get full points you'll need to write a raw bitcoin script.\n",
    "# In the bitcoinlib library, scripts are represented as a list of operations. For example,\n",
    "# the following is a script that evaluates to true when passed an input that hashes to the\n",
    "# fixed string 0xffffffffffffffffffffffffffffffffffffffff: \n",
    "#\n",
    "# hash_check_script = [OP_HASH160, b'\\xff' * 20, OP_EQUALVERIFY]\n",
    "#\n",
    "# Note that the operation to push bytes onto the stack is done implicitely. The bytes are\n",
    "# just included as an element in the list.\n",
    "\n",
    "p2pkh_script = [] # todo: fill me in\n",
    "scriptPubKey_2 = CScript(p2pkh_script) \n",
    "\n",
    "# Create the transaction outputs\n",
    "txout_1 = CMutableTxOut(amount_to_send_to_output_1, scriptPubKey_1)\n",
    "txout_2 = CMutableTxOut(amount_to_send_to_output_2, scriptPubKey_2)\n",
    "\n",
    "# Create the transaction, by putting the input output transactions\n",
    "tx = CMutableTransaction([txin], [txout_1, txout_2])"
   ]
  },
  {
   "cell_type": "markdown",
   "id": "4eea0898",
   "metadata": {
    "id": "4eea0898"
   },
   "source": [
    "---\n",
    "\n",
    "## **Step 7: Create Your Unlocking Script (scriptSig)**\n",
    "Use your secret to unlock the funds. Write code to create a new transaction that spends your UTXO."
   ]
  },
  {
   "cell_type": "code",
   "execution_count": null,
   "id": "1070c4c2",
   "metadata": {
    "id": "1070c4c2"
   },
   "outputs": [],
   "source": [
    "from bitcoin.core.script import CScript, OP_DUP, OP_HASH160, OP_EQUALVERIFY, OP_CHECKSIG, SignatureHash, SIGHASH_ALL\n",
    "\n",
    "# The scriptPubKey you are unlocking\n",
    "p2pkh_script = [] # todo: fill me in\n",
    "scriptPubKey = CScript(p2pkh_script)\n",
    "\n",
    "# Generate the message to sign: hash digest of the new transaction and the scriptPubKey of the spent UTXO\n",
    "messageToSign = SignatureHash(scriptPubKey, tx, 0, SIGHASH_ALL)\n",
    "\n",
    "# Sign this message to authorize the spending\n",
    "signature = secret_key.sign(messageToSign) + bytes([SIGHASH_ALL])\n",
    "\n",
    "# Add the signature and public key to the scriptSig and link it to the transaction\n",
    "tx.vin[0].scriptSig = CScript([signature, public_key])"
   ]
  },
  {
   "cell_type": "markdown",
   "id": "2c95cf51",
   "metadata": {
    "id": "2c95cf51"
   },
   "source": [
    "---\n",
    "\n",
    "## **Step 8: Broadcast the Transaction**\n",
    "Convert your transaction to hexadecimal format and broadcast it using [mempool.space](https://mempool.space/signet/tx/push)."
   ]
  },
  {
   "cell_type": "code",
   "execution_count": null,
   "id": "5a5f12e5",
   "metadata": {
    "id": "5a5f12e5"
   },
   "outputs": [],
   "source": [
    "# Serialize and print the transaction in hex\n",
    "raw_tx = tx.serialize().hex()\n",
    "\n",
    "print(\"Raw transaction in hex:\", raw_tx)\n",
    "\n",
    "print(\"to decode the transaction go to https://live.blockcypher.com/btc/decodetx/\")\n"
   ]
  },
  {
   "cell_type": "markdown",
   "id": "b8a0d4bc",
   "metadata": {
    "id": "b8a0d4bc"
   },
   "source": [
    "---\n",
    "\n",
    "## **Submission**\n",
    "1. Wait until your transaction is confirmed in the blockchain (this may take several minutes), and put its transaction ID below as proof of completion.\n",
    "2. If you used external resources or generative AI, add these below.\n",
    "3. Submit the completed notebook, including your code.\n",
    "\n",
    "Good luck!"
   ]
  },
  {
   "cell_type": "code",
   "execution_count": null,
   "id": "bSTCHxq7LL7C",
   "metadata": {
    "id": "bSTCHxq7LL7C"
   },
   "outputs": [],
   "source": [
    "trx_id = \"None\" #insert your transaction id"
   ]
  },
  {
   "cell_type": "markdown",
   "id": "yNRdc5ysS088",
   "metadata": {
    "id": "yNRdc5ysS088"
   },
   "source": [
    "---\n",
    "\n",
    "## **Acknowledgment of external references and generative AI**\n",
    "\n",
    "_Provide links to any external references you used; and prompts, session links or session copies for any substantial use of generative AI._\n"
   ]
  }
 ],
 "metadata": {
  "colab": {
   "provenance": []
  },
  "kernelspec": {
   "display_name": "Python 3 (ipykernel)",
   "language": "python",
   "name": "python3"
  },
  "language_info": {
   "codemirror_mode": {
    "name": "ipython",
    "version": 3
   },
   "file_extension": ".py",
   "mimetype": "text/x-python",
   "name": "python",
   "nbconvert_exporter": "python",
   "pygments_lexer": "ipython3",
   "version": "3.13.7"
  }
 },
 "nbformat": 4,
 "nbformat_minor": 5
}
