{
 "cells": [
  {
   "cell_type": "code",
   "execution_count": null,
   "metadata": {
    "deletable": false,
    "editable": false
   },
   "outputs": [],
   "source": [
    "%pip install -q otter-grader"
   ]
  },
  {
   "cell_type": "code",
   "execution_count": null,
   "metadata": {},
   "outputs": [],
   "source": [
    "!mkdir tests"
   ]
  },
  {
   "cell_type": "code",
   "execution_count": null,
   "metadata": {
    "deletable": false,
    "editable": false
   },
   "outputs": [],
   "source": [
    "# Initialize Otter\n",
    "import otter\n",
    "grader = otter.Notebook()"
   ]
  },
  {
   "cell_type": "markdown",
   "metadata": {
    "id": "L6vqYT5xThpc"
   },
   "source": [
    "# CS 595 Homework 1: Merkle Trees and Cryptographic Hashing\n",
    "\n",
    "**Due date**: Tuesday, September 16 at 11:59pm on [Gradescope](https://www.gradescope.com/courses/1118328) (entry code 2244N4).\n",
    "\n",
    "_You must follow the Academic Code of Conduct and Collaboration Policy stated in the course syllabus at all times while working on this assignment._\n",
    "\n",
    "This assignment consists of three parts:\n",
    "1. Verify that a given Merkle Tree root has been computed correctly.\n",
    "2. Verify that the transaction is included in the block by computing the Merkle Tree path to the root.\n",
    "3. Modify the hash function to use SHA-256 truncated to the first 12 bits and demonstrate how to forge transaction inclusion.\n",
    "\n",
    "To begin, first load the autograder tests in one of the following ways:\n",
    "- If you are using Google Colab, execute the code block below and upload the zipped tests folder\n",
    "- If you are running Jupyter notebook locally, unzip tests.zip and ensure the tests folder is in the same directory as this notebook. Then continue to part 1.\n"
   ]
  },
  {
   "cell_type": "code",
   "execution_count": null,
   "metadata": {
    "id": "upload-tests"
   },
   "outputs": [],
   "source": [
    "# Upload and extract the tests directory (only necessary in Colab)\n",
    "from google.colab import files\n",
    "uploaded = files.upload()\n",
    "\n",
    "import zipfile\n",
    "with zipfile.ZipFile(\"tests.zip\", 'r') as zip_ref:\n",
    "    zip_ref.extractall(\".\")"
   ]
  },
  {
   "cell_type": "markdown",
   "metadata": {
    "deletable": false,
    "editable": false,
    "id": "gcR4AF0mThpf"
   },
   "source": [
    "**PART 1: Verifying the Merkle Tree Root**\n",
    "\n",
    "In this part, you will implement a function `compute_merkle_root` that computes the Merkle Tree root from a list of transactions. Recall the structure of a Merkle tree: Each transaction in the list is hashed, and that hash is considered a leaf in a binary tree. The Merkle root is computed as follows\n",
    "- Concatenate the hashes of adjacent leaves together and hash them to produce a value for the parent node.\n",
    "- Recursively repeat, adding a new layer of hashes each time, until you reach a single top-level hash -- this value is the Merkle root.\n",
    "\n",
    "For the hash function, use the sha256() function provided in the cell below. When computing the Merkle root, you may assume that the length of the provided transactions list is a power of two."
   ]
  },
  {
   "cell_type": "code",
   "execution_count": null,
   "metadata": {
    "deletable": false,
    "editable": false
   },
   "outputs": [],
   "source": [
    "import hashlib\n",
    "def sha256(input_data: str) -> str:\n",
    "    \"\"\"\n",
    "    Compute a SHA-256 hash\n",
    "    \n",
    "    Args:\n",
    "        input_data (str): Input data to hash.\n",
    "    \n",
    "    Returns:\n",
    "        str: 256 bit hex string\n",
    "    \"\"\"\n",
    "    return hashlib.sha256(input_data.encode('utf-8')).hexdigest()"
   ]
  },
  {
   "cell_type": "code",
   "execution_count": null,
   "metadata": {
    "id": "4ktlLSQ3Thpg",
    "tags": []
   },
   "outputs": [],
   "source": [
    "def compute_merkle_root(transactions: list[str], hash_function: callable=sha256) -> str:\n",
    "    \"\"\"\n",
    "    Args:\n",
    "        transactions (list of str): A list of transaction strings.\n",
    "        hash_function: the hash function to use.\n",
    "\n",
    "    Returns:\n",
    "        str: The computed Merkle Tree root as a hexadecimal string.\n",
    "    \"\"\"\n",
    "    # TODO: implement this function\n",
    "    \n",
    "    #如果没有交易，直接返回 None\n",
    "    if not transactions:\n",
    "        return None\n",
    "\n",
    "    # 初始叶子：对每个交易做 hash\n",
    "    level = [hash_function(tx) for tx in transactions]\n",
    "\n",
    "    # 逐层合并直到只剩一个 root\n",
    "    while len(level) > 1:\n",
    "        new_level = []\n",
    "        for i in range(0, len(level), 2):\n",
    "            left = level[i]\n",
    "            right = level[i] if i + 1 == len(level) else level[i + 1]\n",
    "            combined = bytes.fromhex(left) + bytes.fromhex(right)\n",
    "            new_level.append(hash_function(combined.hex()))\n",
    "        level = new_level\n",
    "\n",
    "    return level[0]"
   ]
  },
  {
   "cell_type": "markdown",
   "metadata": {
    "deletable": false,
    "editable": false,
    "id": "ffYXZRdkThpg"
   },
   "source": [
    "As you will see throughout this course, crypto code can be incredibly precise and finicky. For this reason: most programming questions will be accommpanied by **test cases**, which are example inputs and outputs to a function that allow you to check whether your code is working properly.\n",
    "\n",
    "In this question, we provide test cases in human-readable format in the comment above, and we also provide unit tests for you to use below.\n",
    "\n",
    "_Points:_ 30"
   ]
  },
  {
   "cell_type": "code",
   "execution_count": null,
   "metadata": {
    "deletable": false,
    "editable": false
   },
   "outputs": [],
   "source": [
    "transactions = [\"tx1\", \"tx2\", \"tx3\", \"tx4\", \"tx5\", \"tx6\", \"tx7\", \"tx8\"]\n",
    "expected_root = \"ca12ad3f60dde6fcadc46c58f7a877648c9119484bd2e3178a1b65da78111efa\"\n",
    "computed_root = compute_merkle_root(transactions)\n",
    "computed_root == expected_root"
   ]
  },
  {
   "cell_type": "code",
   "execution_count": null,
   "metadata": {
    "deletable": false,
    "editable": false
   },
   "outputs": [],
   "source": [
    "transactions = ['BawAgfmCqNXdsB5v', 'G5ZDcwuzdq2V28Or', 'yg1B31IWCRVp2kv9', 'kRWhaW4d3B4y2Ro5', '0yGvlL3QLIAzmxA3', 'P1eiNLr7pyhmJAGD', 'gds3vD1o3cCaPsiu', 'vIPKj6cDlduPbs6o']\n",
    "expected_root = \"23a979478ee196e22ec7b488e088e6c1b5e8ab8f7f472326418091cf81d8762c\"\n",
    "computed_root = compute_merkle_root(transactions)\n",
    "computed_root == expected_root"
   ]
  },
  {
   "cell_type": "code",
   "execution_count": null,
   "metadata": {
    "deletable": false,
    "editable": false
   },
   "outputs": [],
   "source": [
    "grader.check(\"q1\")"
   ]
  },
  {
   "cell_type": "markdown",
   "metadata": {
    "deletable": false,
    "editable": false,
    "id": "xp3Vv6SdThpi"
   },
   "source": [
    "**PART 2: Verifying Transaction Inclusion:** \n",
    "\n",
    "In this part of the homework, you will implement a function `gen_transaction_path` that computes the Merkle Tree path for a specific transaction.\n",
    "- Start with the hash of the transaction at the given index.\n",
    "- Compute the sibling hash and whether it's on the left or right at each level.\n",
    "\n",
    "You are provided with a `verify_path` function, which allows you to verify whether a transaction is included in the Merkle Tree by recomputing the root. \n",
    "\n",
    "You can use this function to test whether your implementation of `gen_transaction_path` is correct."
   ]
  },
  {
   "cell_type": "code",
   "execution_count": null,
   "metadata": {
    "deletable": false,
    "editable": false
   },
   "outputs": [],
   "source": [
    "def verify_path(merkle_root: str, merkle_path: list[tuple[str, str]], transaction: str, hash_function: callable=sha256) -> bool:\n",
    "    \"\"\"\n",
    "    Verify whether a transaction is included in the Merkle Tree by recomputing the root.\n",
    "\n",
    "    Args:\n",
    "        merkle_root (str): The Merkle Tree root to verify against.\n",
    "        merkle_path (list of tuple): The Merkle Tree path to the root.\n",
    "                                     Each tuple contains:\n",
    "                                        - The sibling hash (str)\n",
    "                                        - A string indicating if the sibling is \"left\" or \"right\".\n",
    "        transaction (str): The transaction to verify.\n",
    "        hash_function: the hash function to use.\n",
    "\n",
    "    Returns:\n",
    "        bool: True if the transaction is included in the Merkle Tree, False otherwise.\n",
    "    \"\"\"\n",
    "\n",
    "    \n",
    "    # Start with the hash of the transaction\n",
    "    current_hash = hash_function(transaction)\n",
    "\n",
    "    # Traverse the path and recompute the hashes up to the root\n",
    "    for sibling_hash, position in merkle_path:\n",
    "        if position == \"left\":\n",
    "            current_hash = hash_function((sibling_hash + current_hash))\n",
    "        elif position == \"right\":\n",
    "            current_hash = hash_function((current_hash + sibling_hash))\n",
    "        else:\n",
    "            raise ValueError(\"Invalid position in the Merkle path: must be 'left' or 'right'.\")\n",
    "\n",
    "    # Check if the recomputed root matches the provided Merkle root\n",
    "    return current_hash == merkle_root\n",
    "\n"
   ]
  },
  {
   "cell_type": "code",
   "execution_count": null,
   "metadata": {
    "id": "OUvevIGkThpj",
    "tags": []
   },
   "outputs": [],
   "source": [
    "def gen_transaction_path(transactions: list[str], index: int, hash_function: callable=sha256) -> list[tuple[str, str]]:\n",
    "    \"\"\"\n",
    "    Args:\n",
    "        transactions (list of str): A list of transaction strings.\n",
    "        index (int): The zero-based index of the transaction to verify.\n",
    "        hash_function: the hash function to use.\n",
    "\n",
    "    Returns:\n",
    "        list of tuple: A list of tuples representing the Merkle Tree path.\n",
    "        Each tuple contains:\n",
    "            - The sibling hash (str)\n",
    "            - A string indicating if the sibling is \"left\" or \"right\".\n",
    "    \"\"\"\n",
    "    # TODO: implement this function\n",
    "    \n",
    "    # 初始叶子节点：对所有交易做 hash\n",
    "    level = [hash_function(tx) for tx in transactions]\n",
    "    path = []\n",
    "    idx = index\n",
    "\n",
    "    # 自底向上生成路径\n",
    "    while len(level) > 1:\n",
    "        # 如果是最后一个且奇数个，复制自己\n",
    "        if idx % 2 == 0:  # 当前节点是左节点\n",
    "            sibling_index = idx + 1 if idx + 1 < len(level) else idx\n",
    "            sibling_pos = \"right\"\n",
    "        else:             # 当前节点是右节点\n",
    "            sibling_index = idx - 1\n",
    "            sibling_pos = \"left\"\n",
    "\n",
    "        if sibling_index != idx:\n",
    "            path.append((level[sibling_index], sibling_pos))\n",
    "\n",
    "        # 更新到上一层\n",
    "        new_level = []\n",
    "        for i in range(0, len(level), 2):\n",
    "            left = level[i]\n",
    "            right = level[i] if i + 1 == len(level) else level[i + 1]\n",
    "            combined = bytes.fromhex(left) + bytes.fromhex(right)\n",
    "            new_level.append(hash_function(combined.hex()))\n",
    "        level = new_level\n",
    "        idx //= 2\n",
    "\n",
    "    return path"
   ]
  },
  {
   "cell_type": "markdown",
   "metadata": {
    "deletable": false,
    "editable": false,
    "id": "2jLi1SukThpj"
   },
   "source": [
    "Once again, we provide several unit tests for you.\n",
    "\n",
    "_Points:_ 30"
   ]
  },
  {
   "cell_type": "code",
   "execution_count": null,
   "metadata": {
    "deletable": false,
    "editable": false
   },
   "outputs": [],
   "source": [
    "grader.check(\"q2\")"
   ]
  },
  {
   "cell_type": "markdown",
   "metadata": {
    "deletable": false,
    "editable": false,
    "id": "kkEML4_tThpl"
   },
   "source": [
    "**PART 3: Forging Inclusion with Truncated Hashes:** \n",
    "\n",
    "In this section, you need to modify the hash function to use a truncated SHA-256 hash (keeping only the first 12 bits, i.e. first three chars of the hex representation) and demonstrate how to forge transaction inclusion.\n",
    "\n",
    "Write a function `forge_transaction_path` that takes the following inputs:\n",
    "\n",
    "merkle_root: The Merkle tree root hash.\n",
    "false_transaction: The specific transaction to forge.\n",
    "The function should leverage the truncated SHA-256 hash to forge a transaction inclusion proof for the specified transaction."
   ]
  },
  {
   "cell_type": "code",
   "execution_count": null,
   "metadata": {
    "deletable": false,
    "editable": false,
    "lines_to_next_cell": 1
   },
   "outputs": [],
   "source": [
    "def truncated_sha256(input_data: str) -> str:\n",
    "    \"\"\"\n",
    "    Compute a SHA-256 hash truncated to the first 12 bits (first 3 chars of the hex representation).\n",
    "    \n",
    "    Args:\n",
    "        input_data (str): Input data to hash.\n",
    "    \n",
    "    Returns:\n",
    "        str: The truncated hash as a hex string (first 12 bits).\n",
    "    \"\"\"\n",
    "    full_hash = hashlib.sha256(input_data.encode('utf-8')).hexdigest()\n",
    "    return full_hash[:3]"
   ]
  },
  {
   "cell_type": "code",
   "execution_count": null,
   "metadata": {
    "id": "aSwFkupkThpl",
    "tags": []
   },
   "outputs": [],
   "source": [
    "def forge_transaction_path(merkle_root: str, false_transaction: str) -> list[tuple[str, str]]:\n",
    "    \"\"\"\n",
    "    Demonstrate how to forge transaction inclusion using a truncated hash function\n",
    "    for a specific transaction.\n",
    "\n",
    "    Args:\n",
    "        merkle_root (str): The actual Merkle Tree root to verify against.\n",
    "        false_transaction (str): The transaction to forge inclusion for.\n",
    "\n",
    "    Returns:\n",
    "        list[tuple[str, str]]: A forged Merkle tree path from the false transaction (at any index) to the real Merkle root. Each tuple contains:\n",
    "            - The sibling hash (str)\n",
    "            - A string indicating if the sibling is \"left\" or \"right\".\n",
    "    \"\"\"\n",
    "    # TODO: implement the rest of this function\n",
    "    \n",
    "    # 先计算伪造交易的 truncated hash\n",
    "    start_hash = truncated_sha256(false_transaction)\n",
    "\n",
    "    # 我们要找到一个 sibling，使得 truncated_sha256(start || sibling) == merkle_root\n",
    "    # 或 truncated_sha256(sibling || start) == merkle_root。\n",
    "    # 由于只需要 3 hex chars，暴力枚举很快。\n",
    "    for candidate in range(10000):\n",
    "        fake_sibling = hex(candidate)[2:]  # 用十六进制字符串作为 sibling\n",
    "        # 尝试作为右兄弟\n",
    "        if truncated_sha256(start_hash + fake_sibling) == merkle_root:\n",
    "            return [(fake_sibling, \"right\")]\n",
    "        # 尝试作为左兄弟\n",
    "        if truncated_sha256(fake_sibling + start_hash) == merkle_root:\n",
    "            return [(fake_sibling, \"left\")]\n",
    "\n",
    "    # 如果没找到，返回空路径（作为 fallback）\n",
    "    return []\n",
    "    "
   ]
  },
  {
   "cell_type": "markdown",
   "metadata": {
    "deletable": false,
    "editable": false,
    "id": "7kiLKv1NThpm"
   },
   "source": [
    "We have provided two public tests, but you should try to run this function on many inputs, and observe the resulting pattern.\n",
    "\n",
    "_Points:_ 30"
   ]
  },
  {
   "cell_type": "code",
   "execution_count": null,
   "metadata": {
    "deletable": false,
    "editable": false
   },
   "outputs": [],
   "source": [
    "grader.check(\"q3\")"
   ]
  },
  {
   "cell_type": "markdown",
   "metadata": {
    "deletable": false,
    "editable": false
   },
   "source": [
    "_Points:_ 10\n",
    "\n",
    "We've shown in class and lab that Merkle trees, when properly designed and used, are computationally sound. That is, it is exceedingly difficult to produce a Merkle path for a false transaction that successfully verifies against a real root. What went wrong in this problem, and how did you exploit it to create forged paths?\n",
    "\n"
   ]
  },
  {
   "cell_type": "markdown",
   "metadata": {
    "deletable": false,
    "editable": true
   },
   "source": [
    "--- Write your answer here ---\n",
    "\n"
   ]
  },
  {
   "cell_type": "markdown",
   "metadata": {
    "id": "i_IDv4mIThpr"
   },
   "source": [
    "## Submitting the Assignment\n",
    "\n",
    "Congratulations on completing the first assignment! Here's how to submit it and receive credit.\n",
    "\n",
    "**Documenting collaborators, sources, and AI tools:** In accordance with the collaboration policy, use the space below to report if you used any resources to complete this homework assignment, aside from the lecture notes and the course textbooks/videos. Specifically, please report:\n",
    "\n",
    "1. Names of all classmates you worked with, and a short description of the work that you performed together.\n",
    "2. All written materials that you used, such as books or websites (besides the lecture notes or textbooks). Please include links to any web-based resources, or citations to any physical works.\n",
    "3. Any external code or tools used that you used. If you used code or assistance from external sources, including AI tools, you must provide details about how you used them. For AI tools, <span style=\"background-color: yellow;\">**include the exact prompts or screenshots of your interaction**</span> to demonstrate how you utilized the tool effectively to achieve your results. This will help us understand your process and ensure proper use of resources.."
   ]
  },
  {
   "cell_type": "markdown",
   "metadata": {
    "id": "fb5O4i5hThpr"
   },
   "source": [
    "_Your response:_\n",
    "\n",
    "1.\n",
    "\n",
    "2. \n",
    "\n",
    "3."
   ]
  },
  {
   "cell_type": "markdown",
   "metadata": {
    "id": "-algFmYgThpr"
   },
   "source": [
    "**Sending to Gradescope:**\n",
    "\n",
    "After completing the assignment:\n",
    "    if you did the assignment on Colab, download it in `.ipynb` format\n",
    "    if you did the assignment locally on your machine, all you need to do is to find it in your directory\n",
    "\n",
    "Then, submit only the `.ipynb` file to Coding Assignment 1 on the GradeScope and it takes a while for the auto grading system to check your work."
   ]
  },
  {
   "cell_type": "markdown",
   "metadata": {},
   "source": []
  },
  {
   "cell_type": "code",
   "execution_count": null,
   "metadata": {},
   "outputs": [],
   "source": []
  }
 ],
 "metadata": {
  "colab": {
   "provenance": []
  },
  "jupytext": {
   "formats": "ipynb,py:percent"
  },
  "kernelspec": {
   "display_name": "Python 3 (ipykernel)",
   "language": "python",
   "name": "python3"
  },
  "language_info": {
   "codemirror_mode": {
    "name": "ipython",
    "version": 3
   },
   "file_extension": ".py",
   "mimetype": "text/x-python",
   "name": "python",
   "nbconvert_exporter": "python",
   "pygments_lexer": "ipython3",
   "version": "3.13.7"
  },
  "varInspector": {
   "cols": {
    "lenName": 16,
    "lenType": 16,
    "lenVar": 40
   },
   "kernels_config": {
    "python": {
     "delete_cmd_postfix": "",
     "delete_cmd_prefix": "del ",
     "library": "var_list.py",
     "varRefreshCmd": "print(var_dic_list())"
    },
    "r": {
     "delete_cmd_postfix": ") ",
     "delete_cmd_prefix": "rm(",
     "library": "var_list.r",
     "varRefreshCmd": "cat(var_dic_list()) "
    }
   },
   "types_to_exclude": [
    "module",
    "function",
    "builtin_function_or_method",
    "instance",
    "_Feature"
   ],
   "window_display": false
  }
 },
 "nbformat": 4,
 "nbformat_minor": 4
}
